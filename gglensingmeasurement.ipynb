{
 "cells": [
  {
   "cell_type": "code",
   "execution_count": 1,
   "metadata": {},
   "outputs": [],
   "source": [
    "\" Preliminary setup \"\n",
    "from distutils.core import setup\n",
    "import os\n",
    "import numpy as np\n",
    "import treecorr\n",
    "\n",
    "import astropy.io.fits as pf\n",
    "import fitsio\n",
    "import sys\n",
    "import os\n",
    "import treecorr\n",
    "import healpy as hp\n",
    "import kmeans_radec\n",
    "from kmeans_radec import KMeans, kmeans_sample\n",
    "\n",
    "from scipy import spatial\n",
    "\n",
    "import pickle\n",
    "\n",
    "# setup notebook for inline figures\n",
    "%matplotlib inline\n",
    "import matplotlib.pyplot as plt"
   ]
  },
  {
   "cell_type": "code",
   "execution_count": 2,
   "metadata": {},
   "outputs": [],
   "source": [
    "lensdata = pf.open('cosmoDC2_UDG_lens.fits')\n",
    "sourcedata = pf.open('cosmoDC2_UDG_source.fits')\n",
    "#print(sourcedata[1].header)"
   ]
  },
  {
   "cell_type": "code",
   "execution_count": null,
   "metadata": {},
   "outputs": [],
   "source": [
    "plt.hist(sourcedata[1].data[, bins=30)"
   ]
  },
  {
   "cell_type": "code",
   "execution_count": 117,
   "metadata": {},
   "outputs": [],
   "source": [
    "#cut the source\n",
    "sc = (sourcedata[1].data['Z']>0.1)*(sourcedata[1].data['Z']<1)\n",
    "ra_s = sourcedata[1].data['ra'][sc]\n",
    "dec_s = sourcedata[1].data['DEC'][sc]\n",
    "e1 = sourcedata[1].data['e1'][sc] + np.random.normal(0, 0.3, size=len(ra_s))\n",
    "e2 = sourcedata[1].data['e2'][sc] + np.random.normal(0, 0.3, size=len(ra_s))\n",
    "# cut the lens 7<log(SM)<8, 0.03<z<0.1 \n",
    "#lc = (lensdata[1].data['Z']>0.03)*(lensdata[1].data['Z']<0.1)*(lensdata[1].data['SM']>10**7)*(lensdata[1].data['SM']<10**8)\n",
    "#ra_l = lensdata[1].data['RA'][lc]\n",
    "#dec_l = lensdata[1].data['DEC'][lc]\n",
    "# cut the lens: 8<log(SM)<9, 0.03<z<0.1\n",
    "lc = (lensdata[1].data['Z']>0.03)*(lensdata[1].data['Z']<0.1)*(lensdata[1].data['SM']>10**8)*(lensdata[1].data['SM']<10**9)\n",
    "ra_l = lensdata[1].data['RA'][lc]\n",
    "dec_l = lensdata[1].data['DEC'][lc]"
   ]
  },
  {
   "cell_type": "code",
   "execution_count": 118,
   "metadata": {},
   "outputs": [],
   "source": [
    "#randomly draw 1750 lenses from the lensdata if it has more than 1750\n",
    "import random\n",
    "if len(ra_l) > 1750:\n",
    "    index = list(range(len(ra_l)))\n",
    "    randomlens = random.sample(index, 1750) \n",
    "    nra_l = []\n",
    "    ndec_l = []\n",
    "    for x in randomlens:\n",
    "        nra_l.append(ra_l[x])\n",
    "        ndec_l.append(dec_l[x])\n",
    "    ra_l = np.array(nra_l)\n",
    "    dec_l = np.array(ndec_l)"
   ]
  },
  {
   "cell_type": "code",
   "execution_count": 119,
   "metadata": {},
   "outputs": [],
   "source": [
    "units='deg'\n",
    "sens = np.ones(len(ra_s))\n",
    "w = np.ones(len(ra_s))"
   ]
  },
  {
   "cell_type": "code",
   "execution_count": 120,
   "metadata": {},
   "outputs": [],
   "source": [
    "ng = treecorr.NGCorrelation(nbins=20, min_sep=2.5, max_sep=250,sep_units='arcmin', bin_slop=0.05)\n",
    "nk = treecorr.NKCorrelation(nbins=20, min_sep=2.5, max_sep=250,sep_units='arcmin', bin_slop=0.05)\n",
    "    \n",
    "cat_l = treecorr.Catalog(ra=ra_l, dec=dec_l, ra_units=units, dec_units=units)\n",
    "    \n",
    "cat_s = treecorr.Catalog(ra=ra_s, dec=dec_s, g1=e1, g2=e2, w=w, ra_units=units, dec_units=units)\n",
    "cat_k = treecorr.Catalog(ra=ra_s, dec=dec_s, k=sens, w=w, ra_units=units, dec_units=units)\n",
    "\n",
    "ng.process_cross(cat_l, cat_s)\n",
    "nk.process_cross(cat_l, cat_k)"
   ]
  },
  {
   "cell_type": "code",
   "execution_count": 121,
   "metadata": {},
   "outputs": [],
   "source": [
    "#calcultating theta and gammat\n",
    "theta = np.exp(ng.logr)\n",
    "gammat = (ng.xi/nk.xi)"
   ]
  },
  {
   "cell_type": "code",
   "execution_count": 122,
   "metadata": {},
   "outputs": [],
   "source": [
    "nbins = 20\n",
    "n_jck=100\n",
    "nside=2**10\n",
    "err_bars = []"
   ]
  },
  {
   "cell_type": "code",
   "execution_count": 123,
   "metadata": {},
   "outputs": [],
   "source": [
    "#defining jkfield\n",
    "def DeclRatoIndex(ra, dec, nside):\n",
    "    theta, phi = np.pi/2.-np.radians(dec), np.radians(ra)\n",
    "    pix = hp.pixelfunc.ang2pix(nside, theta, phi)\n",
    "    return pix\n",
    "\n",
    "def IndexToDeclRa(index, nside):\n",
    "    theta, phi = hp.pixelfunc.pix2ang(nside, index)\n",
    "    dec = -np.degrees(theta-np.pi/2.); ra = np.degrees(phi)\n",
    "    return dec, ra\n",
    "\n",
    "def IndexToDeclRa1(index, nside):\n",
    "    theta, phi = hp.pixelfunc.pix2ang(nside, index)\n",
    "    return -np.degrees(theta-np.pi/2.), np.degrees(phi), theta,phi\n",
    "\n",
    "def jaccknife_regions(ra, dec, number_of_regions, label_jck=None, centers_jck=None, v=False):\n",
    "    new_cat = []\n",
    "    for i in range(len(ra)):\n",
    "        new_cat.append([ra[i],dec[i]])\n",
    "    new_cat = np.array(new_cat)\n",
    "    A = new_cat[np.random.randint(new_cat.shape[0], size=20000),:]\n",
    "    centers_jck = kmeans_radec.kmeans_sample(A, number_of_regions, maxiter=100, tol=1e-05, verbose=0)\n",
    "    centers_tree = spatial.cKDTree(centers_jck.centers[:,[0,1]])\n",
    "    _ , hpix = centers_tree.query(new_cat)\n",
    "    return centers_tree, hpix, centers_jck.centers[:,[0,1]]\n",
    "\n",
    "def negotiate(jkfield, nside, mask, theta, phi, nmaxborderiter):\n",
    "    \n",
    "    sortjk = np.sort(jkfield)\n",
    "    jkcounts = np.bincount(jkfield)  \n",
    "    npix = hp.nside2npix(nside)  \n",
    "    pixel2indx = np.zeros(npix,dtype=int)        # ipix to index in the mask-only-array\n",
    "    pixel2indx = -1*pixel2indx                   # -1 : pixel has no indx assigned\n",
    "    pixel2indx[mask] = np.array(range(len(pixel2indx[mask])))\n",
    "\n",
    "    for mute in range(nmaxborderiter):  # iterate over border negotiation\n",
    "        ichange = 0; irare = 0\n",
    "\n",
    "        for indx in sortjk:\n",
    "            jk1 = jkfield[indx]\n",
    "            ipixarr = hp.get_all_neighbours(nside, theta[indx], phi[indx]) # 8 neighbours, will use only 4\n",
    "            \n",
    "            for j in range(8):\n",
    "                ipix2 = ipixarr[j] \n",
    "\n",
    "                if (ipix2 < 0) : \n",
    "                    irare = irare+1\n",
    "                    continue \n",
    "\n",
    "                indx2 = pixel2indx[ipix2]\n",
    "                jk2 = jkfield[indx2] \n",
    "\n",
    "                if ( jkcounts[jk1] < jkcounts[jk2]):\n",
    "                    ichange = ichange+1\n",
    "                    jkfield[indx2] = jk1\n",
    "                    jkcounts[jk2] = jkcounts[jk2]-1\n",
    "                    jkcounts[jk1] = jkcounts[jk1]+1\n",
    "    return jkfield\n",
    "        \n",
    "mask_sims = DeclRatoIndex(ra_l, dec_l, nside)\n",
    "area = np.array(range(hp.nside2npix(nside)))[mask_sims]\n",
    "dec, ra = IndexToDeclRa(area, nside)\n",
    "centers_tree, hpix, centers = jaccknife_regions(ra, dec, n_jck)\n",
    "new_cat = []\n",
    "for i in range(len(ra)):\n",
    "    new_cat.append([ra[i],dec[i]])\n",
    "new_cat = np.array(new_cat)\n",
    "A = new_cat[np.random.randint(new_cat.shape[0], size=50000),:]\n",
    "centers_jck = kmeans_radec.kmeans_sample(A, n_jck, maxiter=100, tol=1e-05, verbose=0)\n",
    "dec, ra, theta1, phi = IndexToDeclRa1(area, nside)\n",
    "jkfield = centers_jck.find_nearest(new_cat)\n",
    "jkfield1 = negotiate(jkfield, nside, mask_sims, theta1, phi, 7)"
   ]
  },
  {
   "cell_type": "code",
   "execution_count": 124,
   "metadata": {},
   "outputs": [
    {
     "name": "stdout",
     "output_type": "stream",
     "text": [
      "Done calculating covariance matrix\n"
     ]
    }
   ],
   "source": [
    "#calculating covariance matrix\n",
    "Gammat_jck = []; cov = []\n",
    "\n",
    "for i in range(nbins):\n",
    "    cov.append(np.zeros(nbins))\n",
    "cov = np.array(cov)\n",
    "jck_pathches = np.array(range(n_jck))\n",
    "\n",
    "\n",
    "for k in range(n_jck): # Jackknife regions\n",
    "    mask_l = jkfield1 != k\n",
    "    ira_l = ra_l[mask_l]; idec_l = dec_l[mask_l]\n",
    "    ng = treecorr.NGCorrelation(nbins=20, min_sep=2.5, max_sep=250,sep_units='arcmin', bin_slop=0.05)\n",
    "    nk = treecorr.NKCorrelation(nbins=20, min_sep=2.5, max_sep=250,sep_units='arcmin', bin_slop=0.05)\n",
    "    \n",
    "    cat_l = treecorr.Catalog(ra=ira_l, dec=idec_l, ra_units=units, dec_units=units)\n",
    "    \n",
    "    cat_s = treecorr.Catalog(ra=ra_s, dec=dec_s, g1=e1, g2=e2, w=w, ra_units=units, dec_units=units)\n",
    "    cat_k = treecorr.Catalog(ra=ra_s, dec=dec_s, k=sens, w=w, ra_units=units, dec_units=units)\n",
    "\n",
    "    ng.process_cross(cat_l, cat_s)\n",
    "    nk.process_cross(cat_l, cat_k)\n",
    "    Gammat_jck.append(list(ng.xi/nk.xi))\n",
    "Gammat_jck = np.array(Gammat_jck)\n",
    "for m in range(nbins):\n",
    "    gti = Gammat_jck[:,m]\n",
    "    for n in range(nbins):\n",
    "        gtj = Gammat_jck[:,n]\n",
    "        cov[m][n] = (n_jck - 1) * np.mean( ( gti - np.mean(gti)) * ( gtj - np.mean(gtj) ))\n",
    "\n",
    "print(\"Done calculating covariance matrix\")"
   ]
  },
  {
   "cell_type": "code",
   "execution_count": 125,
   "metadata": {},
   "outputs": [],
   "source": [
    "#save the results\n",
    "np.savetxt('thetasecondcutsn.txt',theta)\n",
    "np.savetxt('gammatsecondcutsn.txt', gammat)\n",
    "np.savetxt('jkfield1secondcutsn.txt', jkfield1)\n",
    "np.savetxt('covsecondcutsn.txt', cov)"
   ]
  },
  {
   "cell_type": "code",
   "execution_count": 6,
   "metadata": {},
   "outputs": [
    {
     "data": {
      "image/png": "[encoded data removed]",
      "text/plain": [
       "<Figure size 432x288 with 1 Axes>"
      ]
     },
     "metadata": {
      "needs_background": "light"
     },
     "output_type": "display_data"
    }
   ],
   "source": [
    "#ploting the results\n",
    "theta = np.loadtxt('thetafirstcut.txt')\n",
    "gammat = np.loadtxt('gammatfirstcut.txt')\n",
    "cov = np.loadtxt('covfirstcut.txt')\n",
    "err_bars = np.sqrt(np.sum(np.diagonal(cov)))\n",
    "fig = plt.figure()\n",
    "plt.scatter(theta, np.abs(gammat), marker='o')\n",
    "plt.errorbar(theta, np.abs(gammat),  yerr=err_bars, fmt='o', markersize=5, ecolor='r', capsize=4)\n",
    "plt.xscale('log')\n",
    "plt.xlabel('theta(deg)')\n",
    "#plt.yscale('log')\n",
    "plt.ylabel('gamma_t')\n",
    "plt.title('measurement for firstcut in perfect case')\n",
    "plt.ylim(-1.e-4, 3.e-4)\n",
    "#plt.ylim(1.e-8,1.e-2)\n",
    "plt.show()"
   ]
  },
  {
   "cell_type": "code",
   "execution_count": 13,
   "metadata": {},
   "outputs": [
    {
     "data": {
      "text/plain": [
       "<matplotlib.image.AxesImage at 0x2b88e5e50d30>"
      ]
     },
     "execution_count": 13,
     "metadata": {},
     "output_type": "execute_result"
    },
    {
     "data": {
      "image/png": "[encoded data removed]",
      "text/plain": [
       "<Figure size 432x288 with 1 Axes>"
      ]
     },
     "metadata": {
      "needs_background": "light"
     },
     "output_type": "display_data"
    }
   ],
   "source": [
    "plt.imshow(cov)"
   ]
  },
  {
   "cell_type": "code",
   "execution_count": 14,
   "metadata": {},
   "outputs": [
    {
     "name": "stdout",
     "output_type": "stream",
     "text": [
      "4.608433540201187\n"
     ]
    }
   ],
   "source": [
    "#S/N = [D C^{-1} D^{T}]^0.5\n",
    "snratio = np.sqrt(np.matmul(np.matmul(gammat,np.linalg.inv(cov)),np.matrix.transpose(gammat)))\n",
    "print(snratio)"
   ]
  },
  {
   "cell_type": "code",
   "execution_count": 8,
   "metadata": {},
   "outputs": [
    {
     "data": {
      "image/png": "[encoded data removed]",
      "text/plain": [
       "<Figure size 432x288 with 1 Axes>"
      ]
     },
     "metadata": {
      "needs_background": "light"
     },
     "output_type": "display_data"
    }
   ],
   "source": [
    "#ploting the results\n",
    "theta = np.loadtxt('thetafirstcutsn.txt')\n",
    "gammat = np.loadtxt('gammatfirstcutsn.txt')\n",
    "cov = np.loadtxt('covfirstcutsn.txt')\n",
    "err_bars = np.sqrt(np.sum(np.diagonal(cov)))\n",
    "fig = plt.figure()\n",
    "plt.scatter(theta, np.abs(gammat), marker='o')\n",
    "plt.errorbar(theta, np.abs(gammat),  yerr=err_bars, fmt='o', ecolor='r', capsize=4)\n",
    "plt.xscale('log')\n",
    "plt.xlabel('theta(deg)')\n",
    "#plt.yscale('log')\n",
    "plt.ylabel('gamma_t')\n",
    "plt.title('measurement for firstcut with shape noise')\n",
    "#plt.ylim(-1.e-4, 3.e-4)\n",
    "#plt.ylim(1.e-8,1.e-2)\n",
    "plt.show()"
   ]
  },
  {
   "cell_type": "code",
   "execution_count": 39,
   "metadata": {},
   "outputs": [
    {
     "data": {
      "text/plain": [
       "<matplotlib.image.AxesImage at 0x2b88e6097d68>"
      ]
     },
     "execution_count": 39,
     "metadata": {},
     "output_type": "execute_result"
    },
    {
     "data": {
      "image/png": "[encoded data removed]",
      "text/plain": [
       "<Figure size 432x288 with 1 Axes>"
      ]
     },
     "metadata": {
      "needs_background": "light"
     },
     "output_type": "display_data"
    }
   ],
   "source": [
    "plt.imshow(cov)"
   ]
  },
  {
   "cell_type": "code",
   "execution_count": 40,
   "metadata": {},
   "outputs": [
    {
     "name": "stdout",
     "output_type": "stream",
     "text": [
      "5.756585602056609\n"
     ]
    }
   ],
   "source": [
    "#S/N = [D C^{-1} D^{T}]^0.5\n",
    "snratio = np.sqrt(np.matmul(np.matmul(gammat,np.linalg.inv(cov)),np.matrix.transpose(gammat)))\n",
    "print(snratio)"
   ]
  },
  {
   "cell_type": "code",
   "execution_count": 7,
   "metadata": {},
   "outputs": [
    {
     "data": {
      "image/png": "[encoded data removed]",
      "text/plain": [
       "<Figure size 432x288 with 1 Axes>"
      ]
     },
     "metadata": {
      "needs_background": "light"
     },
     "output_type": "display_data"
    }
   ],
   "source": [
    "#ploting the results\n",
    "theta = np.loadtxt('thetasecondcut.txt')\n",
    "gammat = np.loadtxt('gammatsecondcut.txt')\n",
    "cov = np.loadtxt('covsecondcut.txt')\n",
    "err_bars = np.sqrt(np.sum(np.diagonal(cov)))\n",
    "fig = plt.figure()\n",
    "plt.scatter(theta, np.abs(gammat), marker='o')\n",
    "plt.errorbar(theta, np.abs(gammat),  yerr=err_bars, fmt='o', markersize=5, ecolor='r', capsize=4)\n",
    "plt.xscale('log')\n",
    "plt.xlabel('theta(deg)')\n",
    "#plt.yscale('log')\n",
    "plt.ylabel('gamma_t')\n",
    "plt.title('measurement for second cut in perfect case')\n",
    "plt.ylim(-1.e-4, 3.e-4)\n",
    "#plt.ylim(1.e-8,1.e-2)\n",
    "plt.show()"
   ]
  },
  {
   "cell_type": "code",
   "execution_count": 113,
   "metadata": {},
   "outputs": [
    {
     "data": {
      "text/plain": [
       "<matplotlib.image.AxesImage at 0x2b88e624e5c0>"
      ]
     },
     "execution_count": 113,
     "metadata": {},
     "output_type": "execute_result"
    },
    {
     "data": {
      "image/png": "[encoded data removed]",
      "text/plain": [
       "<Figure size 432x288 with 1 Axes>"
      ]
     },
     "metadata": {
      "needs_background": "light"
     },
     "output_type": "display_data"
    }
   ],
   "source": [
    "plt.imshow(cov)"
   ]
  },
  {
   "cell_type": "code",
   "execution_count": 114,
   "metadata": {},
   "outputs": [
    {
     "name": "stdout",
     "output_type": "stream",
     "text": [
      "6.885478228538489\n"
     ]
    }
   ],
   "source": [
    "#S/N = [D C^{-1} D^{T}]^0.5\n",
    "snratio = np.sqrt(np.matmul(np.matmul(gammat,np.linalg.inv(cov)),np.matrix.transpose(gammat)))\n",
    "print(snratio)"
   ]
  },
  {
   "cell_type": "code",
   "execution_count": 9,
   "metadata": {},
   "outputs": [
    {
     "data": {
      "image/png": "[encoded data removed]",
      "text/plain": [
       "<Figure size 432x288 with 1 Axes>"
      ]
     },
     "metadata": {
      "needs_background": "light"
     },
     "output_type": "display_data"
    }
   ],
   "source": [
    "#ploting the results\n",
    "theta = np.loadtxt('thetasecondcutsn.txt')\n",
    "gammat = np.loadtxt('gammatsecondcutsn.txt')\n",
    "cov = np.loadtxt('covsecondcutsn.txt')\n",
    "err_bars = np.sqrt(np.sum(np.diagonal(cov)))\n",
    "fig = plt.figure()\n",
    "plt.scatter(theta, np.abs(gammat), marker='o')\n",
    "plt.errorbar(theta, np.abs(gammat),  yerr=err_bars, fmt='o', markersize=5, ecolor='r', capsize=4)\n",
    "plt.xscale('log')\n",
    "plt.xlabel('theta(deg)')\n",
    "#plt.yscale('log')\n",
    "plt.ylabel('gamma_t')\n",
    "plt.title('measurement for second cut with shape noise')\n",
    "#plt.ylim(-1.e-4, 3.e-4)\n",
    "#plt.ylim(1.e-8,1.e-2)\n",
    "plt.show()"
   ]
  },
  {
   "cell_type": "code",
   "execution_count": 127,
   "metadata": {},
   "outputs": [
    {
     "data": {
      "text/plain": [
       "<matplotlib.image.AxesImage at 0x2b88e5d6cef0>"
      ]
     },
     "execution_count": 127,
     "metadata": {},
     "output_type": "execute_result"
    },
    {
     "data": {
      "image/png": "[encoded data removed]",
      "text/plain": [
       "<Figure size 432x288 with 1 Axes>"
      ]
     },
     "metadata": {
      "needs_background": "light"
     },
     "output_type": "display_data"
    }
   ],
   "source": [
    "plt.imshow(cov)"
   ]
  },
  {
   "cell_type": "code",
   "execution_count": 128,
   "metadata": {},
   "outputs": [
    {
     "name": "stdout",
     "output_type": "stream",
     "text": [
      "4.883930052059953\n"
     ]
    }
   ],
   "source": [
    "#S/N = [D C^{-1} D^{T}]^0.5\n",
    "snratio = np.sqrt(np.matmul(np.matmul(gammat,np.linalg.inv(cov)),np.matrix.transpose(gammat)))\n",
    "print(snratio)"
   ]
  },
  {
   "cell_type": "code",
   "execution_count": 5,
   "metadata": {},
   "outputs": [
    {
     "data": {
      "text/plain": [
       "XTENSION= 'BINTABLE'           / binary table extension                         \n",
       "BITPIX  =                    8 / array data type                                \n",
       "NAXIS   =                    2 / number of array dimensions                     \n",
       "NAXIS1  =                   20 / length of dimension 1                          \n",
       "NAXIS2  =              1050195 / length of dimension 2                          \n",
       "PCOUNT  =                    0 / number of group parameters                     \n",
       "GCOUNT  =                    1 / number of groups                               \n",
       "TFIELDS =                    5 / number of table fields                         \n",
       "TTYPE1  = 'RA      '                                                            \n",
       "TFORM1  = 'E       '                                                            \n",
       "TTYPE2  = 'DEC     '                                                            \n",
       "TFORM2  = 'E       '                                                            \n",
       "TTYPE3  = 'Z       '                                                            \n",
       "TFORM3  = 'E       '                                                            \n",
       "TTYPE4  = 'E1      '                                                            \n",
       "TFORM4  = 'E       '                                                            \n",
       "TTYPE5  = 'E2      '                                                            \n",
       "TFORM5  = 'E       '                                                            "
      ]
     },
     "execution_count": 5,
     "metadata": {},
     "output_type": "execute_result"
    }
   ],
   "source": [
    "sourcedata[1].header"
   ]
  },
  {
   "cell_type": "code",
   "execution_count": null,
   "metadata": {},
   "outputs": [],
   "source": []
  }
 ],
 "metadata": {
  "kernelspec": {
   "display_name": "desc-python",
   "language": "python",
   "name": "desc-python"
  },
  "language_info": {
   "codemirror_mode": {
    "name": "ipython",
    "version": 3
   },
   "file_extension": ".py",
   "mimetype": "text/x-python",
   "name": "python",
   "nbconvert_exporter": "python",
   "pygments_lexer": "ipython3",
   "version": "3.6.6"
  }
 },
 "nbformat": 4,
 "nbformat_minor": 2
}
